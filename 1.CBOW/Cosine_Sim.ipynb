{
 "cells": [
  {
   "cell_type": "code",
   "execution_count": 1,
   "metadata": {},
   "outputs": [],
   "source": [
    "import numpy as np\n",
    "import tensorflow as tf"
   ]
  },
  {
   "cell_type": "code",
   "execution_count": 2,
   "metadata": {},
   "outputs": [],
   "source": [
    "def cosine_sim(vec1, vec2):\n",
    "    in_pro = np.sum(vec1*vec2)\n",
    "    mag_vec1 = np.sqrt(np.sum(vec1**2))\n",
    "    mag_vec2 = np.sqrt(np.sum(vec2**2))\n",
    "    ans = in_pro/(mag_vec1*mag_vec2)\n",
    "    return ans"
   ]
  },
  {
   "cell_type": "code",
   "execution_count": 4,
   "metadata": {},
   "outputs": [
    {
     "data": {
      "text/plain": [
       "'vec_fix = vectors[3]\\nfor index, vector in enumerate(vectors):\\n    cos = {}\\n    temp = cosine_sim(vec_fix, vectors[index])\\n    cos[index] = temp\\n    print(cos)'"
      ]
     },
     "execution_count": 4,
     "metadata": {},
     "output_type": "execute_result"
    }
   ],
   "source": [
    "'''vec_fix = vectors[3]\n",
    "for index, vector in enumerate(vectors):\n",
    "    cos = {}\n",
    "    temp = cosine_sim(vec_fix, vectors[index])\n",
    "    cos[index] = temp\n",
    "    print(cos)'''"
   ]
  },
  {
   "cell_type": "code",
   "execution_count": 6,
   "metadata": {},
   "outputs": [],
   "source": [
    "vec1 = np.asarray([1,0])\n",
    "vec2 = np.asarray([0,1])"
   ]
  },
  {
   "cell_type": "code",
   "execution_count": 7,
   "metadata": {},
   "outputs": [
    {
     "name": "stdout",
     "output_type": "stream",
     "text": [
      "0.0\n"
     ]
    }
   ],
   "source": [
    "print(cosine_sim(vec1, vec2))"
   ]
  },
  {
   "cell_type": "code",
   "execution_count": 9,
   "metadata": {},
   "outputs": [
    {
     "name": "stdout",
     "output_type": "stream",
     "text": [
      "he is the man . the man is happy . she is the happy women\n"
     ]
    }
   ],
   "source": [
    "f = open(\"input.txt\", \"r\")\n",
    "if f.mode == \"r\":\n",
    "    corpus_raw = f.read()\n",
    "    print(corpus_raw)"
   ]
  }
 ],
 "metadata": {
  "kernelspec": {
   "display_name": "Python 3",
   "language": "python",
   "name": "python3"
  },
  "language_info": {
   "codemirror_mode": {
    "name": "ipython",
    "version": 3
   },
   "file_extension": ".py",
   "mimetype": "text/x-python",
   "name": "python",
   "nbconvert_exporter": "python",
   "pygments_lexer": "ipython3",
   "version": "3.6.6"
  }
 },
 "nbformat": 4,
 "nbformat_minor": 2
}
